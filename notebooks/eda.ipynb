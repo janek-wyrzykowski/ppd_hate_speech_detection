{
 "cells": [
  {
   "cell_type": "markdown",
   "id": "0ab73537",
   "metadata": {},
   "source": [
    "# Ładowanie danych i EDA"
   ]
  },
  {
   "cell_type": "code",
   "execution_count": null,
   "id": "c19e27f6",
   "metadata": {},
   "outputs": [],
   "source": [
    "import pandas as pd\n",
    "\n",
    "df_train = pd.read_csv(\"../data/train.csv\")\n",
    "\n",
    "df_train.head()"
   ]
  },
  {
   "cell_type": "markdown",
   "id": "545c9dbf",
   "metadata": {},
   "source": [
    "Spróbujmy wyciągnąć kilka informacji z ramki:"
   ]
  },
  {
   "cell_type": "code",
   "execution_count": null,
   "id": "8e73da13",
   "metadata": {},
   "outputs": [],
   "source": [
    "print(f\"Liczba toksycznych komentarzy: {df_train[\"toxic\"].sum()}\")\n",
    "print(f\"Liczba bardzo toksycznych komentarzy: {df_train[\"severe_toxic\"].sum()}\")\n",
    "print(f\"Liczba nieprzyzwoitych komentarzy: {df_train[\"obscene\"].sum()}\")\n",
    "print(f\"Liczba komentarzy zawierających groźby: {df_train[\"threat\"].sum()}\")\n",
    "print(f\"Liczba komentarzy zawierających obelgi: {df_train[\"insult\"].sum()}\")\n",
    "print(f\"Liczba komentarzy z nienawiścią ze względu na tożsamość: {df_train[\"identity_hate\"].sum()}\")"
   ]
  },
  {
   "cell_type": "markdown",
   "id": "cef3a4da",
   "metadata": {},
   "source": [
    "Spójrzmy na przykładowe komentarze z każdej z grup mowy nienawiści:"
   ]
  },
  {
   "cell_type": "code",
   "execution_count": null,
   "id": "0c9bd6d2",
   "metadata": {},
   "outputs": [],
   "source": [
    "df_train.loc[df_train[\"toxic\"] == 1, [\"comment_text\"]].sample(10)"
   ]
  },
  {
   "cell_type": "code",
   "execution_count": null,
   "id": "7beb7bb0",
   "metadata": {},
   "outputs": [],
   "source": [
    "df_train.loc[df_train[\"severe_toxic\"] == 1, [\"comment_text\"]].sample(10)"
   ]
  },
  {
   "cell_type": "code",
   "execution_count": null,
   "id": "7f9f8bf0",
   "metadata": {},
   "outputs": [],
   "source": [
    "df_train.loc[df_train[\"obscene\"] == 1, [\"comment_text\"]].sample(10)"
   ]
  },
  {
   "cell_type": "code",
   "execution_count": null,
   "id": "b68b6047",
   "metadata": {},
   "outputs": [],
   "source": [
    "df_train.loc[df_train[\"threat\"] == 1, [\"comment_text\"]].sample(10)"
   ]
  },
  {
   "cell_type": "code",
   "execution_count": null,
   "id": "de780d34",
   "metadata": {},
   "outputs": [],
   "source": [
    "df_train.loc[df_train[\"insult\"] == 1, [\"comment_text\"]].sample(10)"
   ]
  },
  {
   "cell_type": "code",
   "execution_count": null,
   "id": "c7dfac1d",
   "metadata": {},
   "outputs": [],
   "source": [
    "df_train.loc[df_train[\"identity_hate\"] == 1, [\"comment_text\"]].sample(10)"
   ]
  },
  {
   "cell_type": "markdown",
   "id": "fe820b25",
   "metadata": {},
   "source": [
    "Spójrzmy na podstawowe własności treści komentarzy:"
   ]
  },
  {
   "cell_type": "code",
   "execution_count": null,
   "id": "da621dbe",
   "metadata": {},
   "outputs": [],
   "source": [
    "# TODO: mozna sprobowac wyciaganac cos wiecej z tego comment_text\n",
    "# TODO: describe na comment_text_length\n",
    "df_train[\"comment_text_length\"] = df_train[\"comment_text\"].map(len)\n",
    "\n",
    "df_train.head()"
   ]
  },
  {
   "cell_type": "code",
   "execution_count": null,
   "id": "4c67353f",
   "metadata": {},
   "outputs": [],
   "source": [
    "# TODO: dodatkowe rzeczy? moze jakies ciekawe wykresy"
   ]
  }
 ],
 "metadata": {
  "kernelspec": {
   "display_name": "Python 3",
   "language": "python",
   "name": "python3"
  },
  "language_info": {
   "codemirror_mode": {
    "name": "ipython",
    "version": 3
   },
   "file_extension": ".py",
   "mimetype": "text/x-python",
   "name": "python",
   "nbconvert_exporter": "python",
   "pygments_lexer": "ipython3",
   "version": "3.12.3"
  }
 },
 "nbformat": 4,
 "nbformat_minor": 5
}
